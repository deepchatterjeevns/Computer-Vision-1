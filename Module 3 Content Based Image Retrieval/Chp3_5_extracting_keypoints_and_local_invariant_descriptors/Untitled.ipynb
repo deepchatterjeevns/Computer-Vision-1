{
 "cells": [
  {
   "cell_type": "code",
   "execution_count": 20,
   "metadata": {},
   "outputs": [],
   "source": [
    "# USAGE\n",
    "# python David_index_features.py --dataset \"../.././CV_PyImageSearch/Dataset/ukbench\" -s \"../../../CV_PyImageSearch/Dataset/Chapter_Specific/chp_3_5_Extracting_keypoints/output_hdf5/features.hdf5\"\n",
    "\n",
    "# python David_index_features.py --dataset \"../.././CV_PyImageSearch/Dataset/ukbench\" -s \"../../../CV_PyImageSearch/Dataset/Chapter_Specific/features.hdf5\"\n",
    "\n",
    "# import the necessary packages\n",
    "from __future__ import print_function\n",
    "from pyimagesearch.descriptors import DetectAndDescribe\n",
    "from pyimagesearch.indexer import FeatureIndexer\n",
    "from imutils.feature import FeatureDetector_create, DescriptorExtractor_create\n",
    "from imutils import paths\n",
    "import argparse\n",
    "import imutils\n",
    "import cv2\n",
    "\n",
    "# construct the argument parser and parse the arguments\n",
    "ap = argparse.ArgumentParser()\n",
    "ap.add_argument(\"-d\", \"--dataset\", required=True,\n",
    "\thelp=\"Path to the directory that contains the images to be indexed\")\n",
    "ap.add_argument(\"-s\", \"--save_hdf5\", required=True,\n",
    "\thelp=\"Path to where the features database will be stored\")\n",
    "ap.add_argument(\"-a\", \"--approx_images\", type=int, default=100,\n",
    "\thelp=\"Approximate # of images in the dataset\")\n",
    "ap.add_argument(\"-b\", \"--max_buffer_size\", type=int, default=500,\n",
    "\thelp=\"Maximum buffer size for # of features to be stored in memory\")\n",
    "    \n",
    "#import sys\n",
    "#sys.argv[1:] = '--dataset ../../../CV_PyImageSearch/Dataset/ukbench --save_hdf5 ../../../CV_PyImageSearch/Dataset/Chapter_Specific/features.hdf5'.split()\n",
    "args = vars(ap.parse_args())\n",
    "\n",
    "# initialize the keypoint detector, local invariant descriptor, and the descriptor\n",
    "# pipeline\n",
    "detector = FeatureDetector_create(\"SURF\")\n",
    "descriptor = DescriptorExtractor_create(\"RootSIFT\")\n",
    "dad = DetectAndDescribe(detector, descriptor)"
   ]
  },
  {
   "cell_type": "code",
   "execution_count": 21,
   "metadata": {},
   "outputs": [
    {
     "ename": "OSError",
     "evalue": "Unable to create file (unable to truncate a file which is already open)",
     "output_type": "error",
     "traceback": [
      "\u001b[1;31m---------------------------------------------------------------------------\u001b[0m",
      "\u001b[1;31mOSError\u001b[0m                                   Traceback (most recent call last)",
      "\u001b[1;32m<ipython-input-21-2be4975db471>\u001b[0m in \u001b[0;36m<module>\u001b[1;34m\u001b[0m\n\u001b[0;32m      1\u001b[0m \u001b[1;31m# initialize the feature indexer\u001b[0m\u001b[1;33m\u001b[0m\u001b[1;33m\u001b[0m\u001b[1;33m\u001b[0m\u001b[0m\n\u001b[0;32m      2\u001b[0m fi = FeatureIndexer(args[\"save_hdf5\"], estNumImages=args[\"approx_images\"],\n\u001b[1;32m----> 3\u001b[1;33m \tmaxBufferSize=args[\"max_buffer_size\"], verbose=True)\n\u001b[0m",
      "\u001b[1;32m~\\Desktop\\AI with Computer Vision\\Computer-Vision\\Github\\Module 3 Content Based Image Retrieval\\Chp3_5_extracting_keypoints_and_local_invariant_descriptors\\pyimagesearch\\indexer\\featureindexer.py\u001b[0m in \u001b[0;36m__init__\u001b[1;34m(self, dbPath, estNumImages, maxBufferSize, dbResizeFactor, verbose)\u001b[0m\n\u001b[0;32m     15\u001b[0m                 \u001b[1;31m# open the HDF5 database for writing and initialize the datasets within\u001b[0m\u001b[1;33m\u001b[0m\u001b[1;33m\u001b[0m\u001b[1;33m\u001b[0m\u001b[0m\n\u001b[0;32m     16\u001b[0m                 \u001b[1;31m# the group\u001b[0m\u001b[1;33m\u001b[0m\u001b[1;33m\u001b[0m\u001b[1;33m\u001b[0m\u001b[0m\n\u001b[1;32m---> 17\u001b[1;33m                 \u001b[0mself\u001b[0m\u001b[1;33m.\u001b[0m\u001b[0mdb\u001b[0m \u001b[1;33m=\u001b[0m \u001b[0mh5py\u001b[0m\u001b[1;33m.\u001b[0m\u001b[0mFile\u001b[0m\u001b[1;33m(\u001b[0m\u001b[0mself\u001b[0m\u001b[1;33m.\u001b[0m\u001b[0mdbPath\u001b[0m\u001b[1;33m,\u001b[0m \u001b[0mmode\u001b[0m\u001b[1;33m=\u001b[0m\u001b[1;34m\"w\"\u001b[0m\u001b[1;33m)\u001b[0m\u001b[1;33m\u001b[0m\u001b[1;33m\u001b[0m\u001b[0m\n\u001b[0m\u001b[0;32m     18\u001b[0m                 \u001b[0mself\u001b[0m\u001b[1;33m.\u001b[0m\u001b[0mimageIDDB\u001b[0m \u001b[1;33m=\u001b[0m \u001b[1;32mNone\u001b[0m\u001b[1;33m\u001b[0m\u001b[1;33m\u001b[0m\u001b[0m\n\u001b[0;32m     19\u001b[0m                 \u001b[0mself\u001b[0m\u001b[1;33m.\u001b[0m\u001b[0mindexDB\u001b[0m \u001b[1;33m=\u001b[0m \u001b[1;32mNone\u001b[0m\u001b[1;33m\u001b[0m\u001b[1;33m\u001b[0m\u001b[0m\n",
      "\u001b[1;32m~\\Anaconda3\\envs\\py36\\lib\\site-packages\\h5py\\_hl\\files.py\u001b[0m in \u001b[0;36m__init__\u001b[1;34m(self, name, mode, driver, libver, userblock_size, swmr, rdcc_nslots, rdcc_nbytes, rdcc_w0, track_order, **kwds)\u001b[0m\n\u001b[0;32m    406\u001b[0m                 fid = make_fid(name, mode, userblock_size,\n\u001b[0;32m    407\u001b[0m                                \u001b[0mfapl\u001b[0m\u001b[1;33m,\u001b[0m \u001b[0mfcpl\u001b[0m\u001b[1;33m=\u001b[0m\u001b[0mmake_fcpl\u001b[0m\u001b[1;33m(\u001b[0m\u001b[0mtrack_order\u001b[0m\u001b[1;33m=\u001b[0m\u001b[0mtrack_order\u001b[0m\u001b[1;33m)\u001b[0m\u001b[1;33m,\u001b[0m\u001b[1;33m\u001b[0m\u001b[1;33m\u001b[0m\u001b[0m\n\u001b[1;32m--> 408\u001b[1;33m                                swmr=swmr)\n\u001b[0m\u001b[0;32m    409\u001b[0m \u001b[1;33m\u001b[0m\u001b[0m\n\u001b[0;32m    410\u001b[0m             \u001b[1;32mif\u001b[0m \u001b[0misinstance\u001b[0m\u001b[1;33m(\u001b[0m\u001b[0mlibver\u001b[0m\u001b[1;33m,\u001b[0m \u001b[0mtuple\u001b[0m\u001b[1;33m)\u001b[0m\u001b[1;33m:\u001b[0m\u001b[1;33m\u001b[0m\u001b[1;33m\u001b[0m\u001b[0m\n",
      "\u001b[1;32m~\\Anaconda3\\envs\\py36\\lib\\site-packages\\h5py\\_hl\\files.py\u001b[0m in \u001b[0;36mmake_fid\u001b[1;34m(name, mode, userblock_size, fapl, fcpl, swmr)\u001b[0m\n\u001b[0;32m    177\u001b[0m         \u001b[0mfid\u001b[0m \u001b[1;33m=\u001b[0m \u001b[0mh5f\u001b[0m\u001b[1;33m.\u001b[0m\u001b[0mcreate\u001b[0m\u001b[1;33m(\u001b[0m\u001b[0mname\u001b[0m\u001b[1;33m,\u001b[0m \u001b[0mh5f\u001b[0m\u001b[1;33m.\u001b[0m\u001b[0mACC_EXCL\u001b[0m\u001b[1;33m,\u001b[0m \u001b[0mfapl\u001b[0m\u001b[1;33m=\u001b[0m\u001b[0mfapl\u001b[0m\u001b[1;33m,\u001b[0m \u001b[0mfcpl\u001b[0m\u001b[1;33m=\u001b[0m\u001b[0mfcpl\u001b[0m\u001b[1;33m)\u001b[0m\u001b[1;33m\u001b[0m\u001b[1;33m\u001b[0m\u001b[0m\n\u001b[0;32m    178\u001b[0m     \u001b[1;32melif\u001b[0m \u001b[0mmode\u001b[0m \u001b[1;33m==\u001b[0m \u001b[1;34m'w'\u001b[0m\u001b[1;33m:\u001b[0m\u001b[1;33m\u001b[0m\u001b[1;33m\u001b[0m\u001b[0m\n\u001b[1;32m--> 179\u001b[1;33m         \u001b[0mfid\u001b[0m \u001b[1;33m=\u001b[0m \u001b[0mh5f\u001b[0m\u001b[1;33m.\u001b[0m\u001b[0mcreate\u001b[0m\u001b[1;33m(\u001b[0m\u001b[0mname\u001b[0m\u001b[1;33m,\u001b[0m \u001b[0mh5f\u001b[0m\u001b[1;33m.\u001b[0m\u001b[0mACC_TRUNC\u001b[0m\u001b[1;33m,\u001b[0m \u001b[0mfapl\u001b[0m\u001b[1;33m=\u001b[0m\u001b[0mfapl\u001b[0m\u001b[1;33m,\u001b[0m \u001b[0mfcpl\u001b[0m\u001b[1;33m=\u001b[0m\u001b[0mfcpl\u001b[0m\u001b[1;33m)\u001b[0m\u001b[1;33m\u001b[0m\u001b[1;33m\u001b[0m\u001b[0m\n\u001b[0m\u001b[0;32m    180\u001b[0m     \u001b[1;32melif\u001b[0m \u001b[0mmode\u001b[0m \u001b[1;33m==\u001b[0m \u001b[1;34m'a'\u001b[0m\u001b[1;33m:\u001b[0m\u001b[1;33m\u001b[0m\u001b[1;33m\u001b[0m\u001b[0m\n\u001b[0;32m    181\u001b[0m         \u001b[1;31m# Open in append mode (read/write).\u001b[0m\u001b[1;33m\u001b[0m\u001b[1;33m\u001b[0m\u001b[1;33m\u001b[0m\u001b[0m\n",
      "\u001b[1;32mh5py\\_objects.pyx\u001b[0m in \u001b[0;36mh5py._objects.with_phil.wrapper\u001b[1;34m()\u001b[0m\n",
      "\u001b[1;32mh5py\\_objects.pyx\u001b[0m in \u001b[0;36mh5py._objects.with_phil.wrapper\u001b[1;34m()\u001b[0m\n",
      "\u001b[1;32mh5py\\h5f.pyx\u001b[0m in \u001b[0;36mh5py.h5f.create\u001b[1;34m()\u001b[0m\n",
      "\u001b[1;31mOSError\u001b[0m: Unable to create file (unable to truncate a file which is already open)"
     ]
    }
   ],
   "source": [
    "# initialize the feature indexer\n",
    "fi = FeatureIndexer(args[\"save_hdf5\"], estNumImages=args[\"approx_images\"],\n",
    "\tmaxBufferSize=args[\"max_buffer_size\"], verbose=True)"
   ]
  },
  {
   "cell_type": "code",
   "execution_count": null,
   "metadata": {},
   "outputs": [],
   "source": [
    "# loop over the images in the dataset\n",
    "for (i, imagePath) in enumerate(sorted(paths.list_images(args[\"dataset\"]))):\n",
    "\t# check to see if progress should be displayed\n",
    "\tif i > 0 and i % 10 == 0:\n",
    "\t\tfi._debug(\"processed {} images\".format(i), msgType=\"[PROGRESS]\")\n",
    "\n",
    "\t# extract the image filename (i.e. the unique image ID) from the image\n",
    "\t# path, then load the image itself\n",
    "\tfilename = imagePath[imagePath.rfind(\"/\") + 1:]\n",
    "\timage = cv2.imread(imagePath)\n",
    "\timage = imutils.resize(image, width=320)\n",
    "\timage = cv2.cvtColor(image, cv2.COLOR_BGR2GRAY)\n",
    "\n",
    "\t# describe the image\n",
    "\t(kps, descs) = dad.describe(image)\n",
    "\n",
    "\t# if either the keypoints or descriptors are None, then ignore the image\n",
    "\tif kps is None or descs is None:\n",
    "\t\tcontinue\n",
    "\n",
    "\t# index the features\n",
    "\tfi.add(filename, kps, descs)\n",
    "\n",
    "# finish the indexing process\n",
    "fi.finish()"
   ]
  }
 ],
 "metadata": {
  "kernelspec": {
   "display_name": "Python 3",
   "language": "python",
   "name": "python3"
  },
  "language_info": {
   "codemirror_mode": {
    "name": "ipython",
    "version": 3
   },
   "file_extension": ".py",
   "mimetype": "text/x-python",
   "name": "python",
   "nbconvert_exporter": "python",
   "pygments_lexer": "ipython3",
   "version": "3.6.10"
  }
 },
 "nbformat": 4,
 "nbformat_minor": 4
}
